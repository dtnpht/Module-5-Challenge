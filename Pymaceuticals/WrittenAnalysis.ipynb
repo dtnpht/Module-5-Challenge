{
 "cells": [
  {
   "cell_type": "markdown",
   "metadata": {},
   "source": [
    "# Written Analysis\n"
   ]
  },
  {
   "cell_type": "markdown",
   "metadata": {},
   "source": [
    "After doing and getting all results from data, I had some conclusion about the data and also method I used to do to analyze the data:\n",
    "1/ From chart analyzing about timepoint for mice for each drug regimen using, we can see that Capomulin and Ramicane were those two drug which have the longer timepoint than others, so that the potential as well as the effectiveness are liable for scientist keep testing.\n",
    "\n",
    "2/ The amount of female mice are higher than male mice, but it is not much (50.7% compare with 49.3% from Male mice). This is because scientists want the data balance satisfaction in research.\n",
    "\n",
    "3/ There is an outlier from Infubinol drug regimen data. The tumor volume of that has been outrage of error box requirement. Futhermore, other 3 drug regimen in satistic also displace no outlier. So we can conclude that data is trustful and has significant in statistic with least error.\n",
    "\n",
    "4/ From the chart show treatment of mice using Capomulin, the tumor volume from most of mice has descending trend in longer timepoint treatment. So that, Capomulin's effectiveness in reducing tumor volume is good although there are some variant in results when research reach over 40 days timepoint\n",
    "\n",
    "5/ Also the average tumor volume  ~ mice's weight, the regression line show the trend that the more Average tumor volume, the heavier in weight of mice are\n",
    "6/ Finally, about method using plot the result of statistic, bar plot using pandas is more effective while reducing time running as well as shorter the code and function using than using pyplot \n",
    "   Pie chart using both method result in the same but pandas is cleaner\n",
    "   Also correlation and regression, we also need pyplot to do and plot the result from outcome we calculate.\n",
    "\n"
   ]
  }
 ],
 "metadata": {
  "kernelspec": {
   "display_name": "Python 3.9.12 ('base')",
   "language": "python",
   "name": "python3"
  },
  "language_info": {
   "name": "python",
   "version": "3.9.12"
  },
  "orig_nbformat": 4,
  "vscode": {
   "interpreter": {
    "hash": "c2d320883fccd77251143a8bb0b77ae9d7aa2217d825ee963aa2de2a61752f16"
   }
  }
 },
 "nbformat": 4,
 "nbformat_minor": 2
}
